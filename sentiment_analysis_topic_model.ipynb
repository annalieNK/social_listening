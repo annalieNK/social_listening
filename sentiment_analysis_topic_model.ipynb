{
 "cells": [
  {
   "cell_type": "code",
   "execution_count": 439,
   "metadata": {},
   "outputs": [],
   "source": [
    "import pandas as pd\n",
    "import numpy as np\n",
    "import os\n",
    "import json\n",
    "import argparse\n",
    "import getpass\n",
    "import random\n",
    "\n",
    "# from pymongo import MongoClient\n",
    "from bs4 import BeautifulSoup\n",
    "\n",
    "from json import loads\n",
    "\n",
    "import nltk\n",
    "from nltk import word_tokenize\n",
    "from nltk.sentiment.vader import SentimentIntensityAnalyzer\n",
    "import string\n",
    "from nltk.corpus import stopwords\n",
    "from nltk.stem.porter import PorterStemmer\n",
    "from nltk import pos_tag\n",
    "from nltk.stem import WordNetLemmatizer\n"
   ]
  },
  {
   "cell_type": "code",
   "execution_count": 7,
   "metadata": {},
   "outputs": [],
   "source": [
    "DATALOC = '/Users/annalie/Dropbox/Pending/Dev/refugees-hackathon/social_listening/'\n",
    "\n",
    "KEYWORDS = ['refugee', 'refugees', 'migrant', 'migrants', 'asylum', 'rohingya',\n",
    "            'immigrant', 'immigrants', 'UNHCR', 'UN Refugees', 'ICE',\n",
    "            'deportation', 'border wall', 'illegal border crossing', 'syrians',\n",
    "           'rohingya', 'fleeing']"
   ]
  },
  {
   "cell_type": "code",
   "execution_count": 8,
   "metadata": {},
   "outputs": [],
   "source": [
    "def get_jsonfiles(foldername):\n",
    "    '''Get all files from folder'''\n",
    "    foldername = os.path.join(DATALOC, foldername)\n",
    "    return [jsonfile for jsonfile in os.listdir(foldername) if jsonfile.endswith('.json')]"
   ]
  },
  {
   "cell_type": "code",
   "execution_count": 9,
   "metadata": {},
   "outputs": [
    {
     "data": {
      "text/plain": [
       "['freedomworks0.json',\n",
       " 'freedomworks1.json',\n",
       " 'freedomworks2.json',\n",
       " 'freedomworks3.json',\n",
       " 'freedomworks4.json',\n",
       " 'freedomworks5.json']"
      ]
     },
     "execution_count": 9,
     "metadata": {},
     "output_type": "execute_result"
    }
   ],
   "source": [
    "foldername = 'freedomworks/'\n",
    "get_jsonfiles(foldername)"
   ]
  },
  {
   "cell_type": "code",
   "execution_count": 236,
   "metadata": {},
   "outputs": [],
   "source": [
    "def get_article_gen(path):\n",
    "    \"\"\" Generator that yields one article at a time. \"\"\"\n",
    "    with open(path,'r') as file:\n",
    "        for line in file:\n",
    "            yield loads(line.strip('\\n'))\n",
    "            \n",
    "# FILEPATH = './nytimes52.json'\n",
    "FILEPATH = '/Users/annalie/Dropbox/Pending/Dev/refugees-hackathon/social_listening/freedomworks/freedomworks0.json'\n",
    "\n",
    "# create a generator that yields articles from the file\n",
    "articles = get_article_gen(FILEPATH)"
   ]
  },
  {
   "cell_type": "code",
   "execution_count": 12,
   "metadata": {},
   "outputs": [],
   "source": [
    "def ReadContent():\n",
    "    p = soup.find('div', attrs = {'class': 'field-item even'})\n",
    "    t = p.text\n",
    "    return unicode(t.encode('utf-8'), errors='ignore')"
   ]
  },
  {
   "cell_type": "code",
   "execution_count": 24,
   "metadata": {},
   "outputs": [],
   "source": [
    "def ReadTitle():\n",
    "    p = soup.find('h1')\n",
    "    t = p.text\n",
    "    return unicode(t.encode('utf-8'), errors='ignore')"
   ]
  },
  {
   "cell_type": "code",
   "execution_count": 237,
   "metadata": {},
   "outputs": [],
   "source": [
    "text = []\n",
    "title = []"
   ]
  },
  {
   "cell_type": "code",
   "execution_count": 291,
   "metadata": {},
   "outputs": [
    {
     "data": {
      "text/plain": [
       "u'Government Protects You From... Small Grapefruits?'"
      ]
     },
     "execution_count": 291,
     "metadata": {},
     "output_type": "execute_result"
    }
   ],
   "source": [
    "# get one article and take a look at it\n",
    "article = next(articles)\n",
    "soup = BeautifulSoup(article['html'])\n",
    "title.append(ReadTitle())\n",
    "title[-1]"
   ]
  },
  {
   "cell_type": "code",
   "execution_count": 286,
   "metadata": {},
   "outputs": [],
   "source": [
    "text.append(ReadContent())"
   ]
  },
  {
   "cell_type": "code",
   "execution_count": 292,
   "metadata": {},
   "outputs": [
    {
     "data": {
      "text/plain": [
       "u'WHAT: Former Virginia attorney general Ken Cuccinelli, along with members of the FreedomWorks Activist Advisory Council, will host a press call to kick-off a nationwide Digital Day of Action to defend internet freedom.\\nWHEN: Tuesday, May 8, 2018 at 10:00 AM ET.\\nWHERE: Contact freedomworks@pinkstongroup.com for the call-in details.\\nWHO: Participants on the call will include:\\nKen Cuccinelli, director of FreedomWorks Regulatory Action Center and former attorney general of Virginia\\nPatrick Hedger, director of policy for FreedomWorks\\nDavid Zupan, Ohio activist and president of the FreedomWorks Activist Advisory Council \\nJohn Mcavoy, Ohio activist and president of Toledo Tea Party\\nRonda Vuillemont-Smith, Oklahoma activist and president of Tulsa 9.12 Project \\nJack Adkins, Oregon activist \\nCarol Davis, Illinois activist and founder of the West Suburban Patriots\\nWHY: Silicon Valley special interests are holding an online demonstration on May 9 to pressure members of Congress to use the Congressional Review Act (CRA) to save Net Neutrality. Once again, FreedomWorks activists plan to beat them to the punch by 24 hours.\\n'"
      ]
     },
     "execution_count": 292,
     "metadata": {},
     "output_type": "execute_result"
    }
   ],
   "source": [
    "text[-1]"
   ]
  },
  {
   "cell_type": "code",
   "execution_count": 295,
   "metadata": {},
   "outputs": [],
   "source": [
    "new = []\n",
    "for i in text:\n",
    "    new.append(i.replace('\\n', ' '))"
   ]
  },
  {
   "cell_type": "code",
   "execution_count": 300,
   "metadata": {},
   "outputs": [],
   "source": [
    "text = list(set(new))"
   ]
  },
  {
   "cell_type": "markdown",
   "metadata": {},
   "source": [
    "## Sentiment analyses on text"
   ]
  },
  {
   "cell_type": "markdown",
   "metadata": {},
   "source": [
    "#### Bigrams"
   ]
  },
  {
   "cell_type": "code",
   "execution_count": 424,
   "metadata": {},
   "outputs": [],
   "source": [
    "def pairs(text, tag1='', tag2=''):\n",
    "    tagged_pair = nltk.bigrams(nltk.pos_tag(word_tokenize(text), tagset='universal'))\n",
    "    pair = set([(a[0], b[0]) for (a,b) in tagged_pair if ((a[1]==tag1) and (b[1]==tag2))])\n",
    "    return pair"
   ]
  },
  {
   "cell_type": "code",
   "execution_count": 419,
   "metadata": {},
   "outputs": [
    {
     "data": {
      "text/plain": [
       "{(u'coming', u'months'),\n",
       " (u'long', u'way'),\n",
       " (u'more', u'waste'),\n",
       " (u'national', u'debt'),\n",
       " (u'other', u'tools'),\n",
       " (u'past', u'years'),\n",
       " (u'right', u'direction'),\n",
       " (u'unobligated', u'budget')}"
      ]
     },
     "execution_count": 419,
     "metadata": {},
     "output_type": "execute_result"
    }
   ],
   "source": [
    "pairs(text[-1], 'ADJ', 'NOUN')"
   ]
  },
  {
   "cell_type": "code",
   "execution_count": 318,
   "metadata": {},
   "outputs": [
    {
     "data": {
      "text/plain": [
       "u'Washington, D.C.- Today, President Trump transmitted to Congress his proposal to rescind $15.4 billion in unobligated budget authorities from past years, as allowed for under the Congressional Budget and Impoundment Control Act of 1974. This tool was used by every president, every year, from 1974 through 2000, but has not been drawn on in over 17 years. FreedomWorks President Adam Brandon commented: FreedomWorks applauds the work of the White House and President Trump in transmitting to Congress $15.4 billion in proposed rescissions. This is a step in the right direction towards cutting spending, as Republicans promise year after year to do. But, with a national debt of over $21 trillion, there is a long way to go. \"Congress should act swiftly in approving this proposal in full, as one step in an effort that does not stop there. They should work with the administration in the coming months and years to use this revived rescissions tool and other tools available to them to cut more waste, including spending in this years irresponsible omnibus, from every area of government. '"
      ]
     },
     "execution_count": 318,
     "metadata": {},
     "output_type": "execute_result"
    }
   ],
   "source": [
    "text[-1]"
   ]
  },
  {
   "cell_type": "markdown",
   "metadata": {},
   "source": [
    "#### Trigrams"
   ]
  },
  {
   "cell_type": "code",
   "execution_count": 385,
   "metadata": {},
   "outputs": [],
   "source": [
    "def pairs(text, tag1=None, tag2=None, tag3=None):\n",
    "    tn = []\n",
    "    tagged_pair = nltk.trigrams(nltk.pos_tag(word_tokenize(text[-1]), tagset='universal'))\n",
    "    if tag3 is not None:\n",
    "        t = list(set([(a[0], b[0], c[0]) for (a,b,c) in tagged_pair if (a[1]==tag1) and (b[1]==tag2) and (c[1]==tag3)]))\n",
    "    if tag3 == None:\n",
    "        t = list(set([(a[0], b[0], c[0]) for (a,b,c) in tagged_pair if (a[1]==tag1) and (b[1]==tag2)]))        \n",
    "    for i in t:\n",
    "        tn.append(' '.join(i))\n",
    "    return tn"
   ]
  },
  {
   "cell_type": "code",
   "execution_count": 393,
   "metadata": {},
   "outputs": [],
   "source": [
    "phrases = []\n",
    "phrases.extend(pairs(text, tag1='VERB', tag2='DET', tag3='NOUN'))\n",
    "phrases.extend(pairs(text, tag1='VERB', tag2='VERB'))\n",
    "phrases.extend(pairs(text, tag1='NOUN', tag2='VERB'))"
   ]
  },
  {
   "cell_type": "code",
   "execution_count": 394,
   "metadata": {},
   "outputs": [
    {
     "data": {
      "text/plain": [
       "[u'is a step',\n",
       " u'approving this proposal',\n",
       " u'applauds the work',\n",
       " u'should act swiftly',\n",
       " u'should work with',\n",
       " u'been drawn on',\n",
       " u'was used by',\n",
       " u'towards cutting spending',\n",
       " u'FreedomWorks applauds the',\n",
       " u'Trump transmitted to',\n",
       " u'tool was used',\n",
       " u'Brandon commented :',\n",
       " u'Congress should act',\n",
       " u'Republicans promise year']"
      ]
     },
     "execution_count": 394,
     "metadata": {},
     "output_type": "execute_result"
    }
   ],
   "source": [
    "phrases"
   ]
  },
  {
   "cell_type": "code",
   "execution_count": null,
   "metadata": {},
   "outputs": [],
   "source": [
    "sid = SentimentIntensityAnalyzer()"
   ]
  },
  {
   "cell_type": "code",
   "execution_count": 400,
   "metadata": {},
   "outputs": [],
   "source": [
    "sentiment = []\n",
    "for i in phrases:\n",
    "    sentiment.append(sid.polarity_scores(i)['compound'])"
   ]
  },
  {
   "cell_type": "code",
   "execution_count": 402,
   "metadata": {},
   "outputs": [
    {
     "data": {
      "text/plain": [
       "[(u'is a step', 0.0),\n",
       " (u'approving this proposal', 0.0),\n",
       " (u'applauds the work', 0.34),\n",
       " (u'should act swiftly', 0.296),\n",
       " (u'should work with', 0.0),\n",
       " (u'been drawn on', 0.0),\n",
       " (u'was used by', 0.0),\n",
       " (u'towards cutting spending', -0.128),\n",
       " (u'FreedomWorks applauds the', 0.34),\n",
       " (u'Trump transmitted to', 0.0),\n",
       " (u'tool was used', 0.0),\n",
       " (u'Brandon commented :', 0.0),\n",
       " (u'Congress should act', 0.0),\n",
       " (u'Republicans promise year', 0.3182)]"
      ]
     },
     "execution_count": 402,
     "metadata": {},
     "output_type": "execute_result"
    }
   ],
   "source": [
    "zip(phrases, sentiment)"
   ]
  },
  {
   "cell_type": "code",
   "execution_count": 417,
   "metadata": {},
   "outputs": [
    {
     "data": {
      "text/plain": [
       "0.23324000000000003"
      ]
     },
     "execution_count": 417,
     "metadata": {},
     "output_type": "execute_result"
    }
   ],
   "source": [
    "np.mean([i for i in sentiment if i !=0])"
   ]
  },
  {
   "cell_type": "markdown",
   "metadata": {},
   "source": [
    "## Keyword extraction from text"
   ]
  },
  {
   "cell_type": "code",
   "execution_count": 444,
   "metadata": {},
   "outputs": [],
   "source": [
    "# split into words\n",
    "tokens = word_tokenize(text[-1])\n",
    "# convert to lower case\n",
    "tokens = [w.lower() for w in tokens]\n",
    "# remove remaining tokens that are not alphabetic\n",
    "words = [word for word in tokens if word.isalpha()]\n",
    "# filter out stop words\n",
    "stop_words = set(stopwords.words('english'))\n",
    "words = [w for w in words if not w in stop_words]\n",
    "# lemmatize verbs\n",
    "words = [wnl.lemmatize(i, pos='v') for i in words]"
   ]
  },
  {
   "cell_type": "code",
   "execution_count": 445,
   "metadata": {},
   "outputs": [
    {
     "name": "stdout",
     "output_type": "stream",
     "text": [
      "[u'washington', u'today', u'president', u'trump', u'transmit', u'congress', u'proposal', u'rescind', u'billion', u'unobligated', u'budget', u'authorities', u'past', u'years', u'allow', u'congressional', u'budget', u'impoundment', u'control', u'act', u'tool', u'use', u'every', u'president', u'every', u'year', u'draw', u'years', u'freedomworks', u'president', u'adam', u'brandon', u'comment', u'freedomworks', u'applaud', u'work', u'white', u'house', u'president', u'trump', u'transmit', u'congress', u'billion', u'propose', u'rescissions', u'step', u'right', u'direction', u'towards', u'cut', u'spend', u'republicans', u'promise', u'year', u'year', u'national', u'debt', u'trillion', u'long', u'way', u'go', u'congress', u'act', u'swiftly', u'approve', u'proposal', u'full', u'one', u'step', u'effort', u'stop', u'work', u'administration', u'come', u'months', u'years', u'use', u'revive', u'rescissions', u'tool', u'tool', u'available', u'cut', u'waste', u'include', u'spend', u'years', u'irresponsible', u'omnibus', u'every', u'area', u'government']\n"
     ]
    }
   ],
   "source": [
    "print(words)"
   ]
  },
  {
   "cell_type": "code",
   "execution_count": null,
   "metadata": {},
   "outputs": [],
   "source": []
  },
  {
   "cell_type": "code",
   "execution_count": null,
   "metadata": {},
   "outputs": [],
   "source": []
  },
  {
   "cell_type": "code",
   "execution_count": null,
   "metadata": {},
   "outputs": [],
   "source": []
  }
 ],
 "metadata": {
  "kernelspec": {
   "display_name": "Python 2",
   "language": "python",
   "name": "python2"
  },
  "language_info": {
   "codemirror_mode": {
    "name": "ipython",
    "version": 2
   },
   "file_extension": ".py",
   "mimetype": "text/x-python",
   "name": "python",
   "nbconvert_exporter": "python",
   "pygments_lexer": "ipython2",
   "version": "2.7.11"
  }
 },
 "nbformat": 4,
 "nbformat_minor": 2
}
